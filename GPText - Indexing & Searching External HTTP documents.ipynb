{
 "cells": [
  {
   "cell_type": "markdown",
   "metadata": {},
   "source": [
    "# Business/User Value\n",
    "As a GPText user, I want to index and search external HTTP documents, which are not stored into the database), using their URL."
   ]
  },
  {
   "cell_type": "markdown",
   "metadata": {},
   "source": [
    "# Workflow\n",
    "\n",
    "## 0. Import Python libraries, OS enviroment variables, set up database connection, et al."
   ]
  },
  {
   "cell_type": "code",
   "execution_count": 2,
   "metadata": {},
   "outputs": [
    {
     "data": {
      "text/plain": [
       "u'Connected: gpadmin@gpadmin'"
      ]
     },
     "execution_count": 2,
     "metadata": {},
     "output_type": "execute_result"
    }
   ],
   "source": [
    "%reload_ext sql\n",
    "import os\n",
    "import pandas as pd\n",
    "connection_string = os.getenv('GPDBCONN')\n",
    "%sql $connection_string"
   ]
  },
  {
   "cell_type": "markdown",
   "metadata": {},
   "source": [
    "## 1. Load a currated list of 10K HTTP documents (URLs) into the database"
   ]
  },
  {
   "cell_type": "code",
   "execution_count": 57,
   "metadata": {},
   "outputs": [
    {
     "name": "stdout",
     "output_type": "stream",
     "text": [
      "Done.\n",
      "Done.\n",
      "10000 rows affected.\n",
      "1 rows affected.\n"
     ]
    },
    {
     "data": {
      "text/html": [
       "<table>\n",
       "    <tr>\n",
       "        <th>count</th>\n",
       "    </tr>\n",
       "    <tr>\n",
       "        <td>10000</td>\n",
       "    </tr>\n",
       "</table>"
      ],
      "text/plain": [
       "[(10000L,)]"
      ]
     },
     "execution_count": 57,
     "metadata": {},
     "output_type": "execute_result"
    }
   ],
   "source": [
    "%%sql gpadmin@gpadmin\n",
    "DROP TABLE IF EXISTS input_url;\n",
    "CREATE TABLE input_url (id INT, url TEXT) DISTRIBUTED BY (id);\n",
    "COPY input_url FROM '/home/gpadmin/input_url.txt' DELIMITER '|';\n",
    "SELECT COUNT(*) FROM input_url;"
   ]
  },
  {
   "cell_type": "markdown",
   "metadata": {},
   "source": [
    "### 1.b Alternatively, load the same from an AWS http location"
   ]
  },
  {
   "cell_type": "code",
   "execution_count": 31,
   "metadata": {},
   "outputs": [
    {
     "name": "stdout",
     "output_type": "stream",
     "text": [
      "Done.\n",
      "Done.\n",
      "Done.\n",
      "Done.\n",
      "10000 rows affected.\n",
      "Done.\n"
     ]
    },
    {
     "data": {
      "text/plain": [
       "[]"
      ]
     },
     "execution_count": 31,
     "metadata": {},
     "output_type": "execute_result"
    }
   ],
   "source": [
    "%%sql gpadmin@gpadmin\n",
    "DROP EXTERNAL TABLE IF EXISTS aws_ext_input_url;\n",
    "CREATE EXTERNAL WEB TABLE aws_ext_input_url (id INT, url TEXT)\n",
    "LOCATION ('http://httpurl.s3.eu-west-2.amazonaws.com/input_url.txt')\n",
    "FORMAT 'TEXT' (DELIMITER '|' NULL AS '');\n",
    "DROP TABLE IF EXISTS input_url;\n",
    "CREATE TABLE input_url (id INT, url TEXT) DISTRIBUTED BY (id);\n",
    "INSERT INTO input_url (id, url)\n",
    "SELECT id, url FROM aws_ext_input_url;\n",
    "DROP EXTERNAL TABLE IF EXISTS aws_ext_input_url;"
   ]
  },
  {
   "cell_type": "markdown",
   "metadata": {},
   "source": [
    "## 2. Create a named GPText external index"
   ]
  },
  {
   "cell_type": "code",
   "execution_count": 67,
   "metadata": {},
   "outputs": [
    {
     "name": "stdout",
     "output_type": "stream",
     "text": [
      "1 rows affected.\n",
      "1 rows affected.\n"
     ]
    },
    {
     "data": {
      "text/html": [
       "<table>\n",
       "    <tr>\n",
       "        <th>create_index_external</th>\n",
       "    </tr>\n",
       "    <tr>\n",
       "        <td>True</td>\n",
       "    </tr>\n",
       "</table>"
      ],
      "text/plain": [
       "[(True,)]"
      ]
     },
     "execution_count": 67,
     "metadata": {},
     "output_type": "execute_result"
    }
   ],
   "source": [
    "%%sql gpadmin@gpadmin\n",
    "SELECT * FROM gptext.drop_index('ext_events');\n",
    "SELECT * FROM gptext.create_index_external('ext_events')"
   ]
  },
  {
   "cell_type": "markdown",
   "metadata": {},
   "source": [
    "## 3. Add the HTTP documents to the external index & commit the index"
   ]
  },
  {
   "cell_type": "code",
   "execution_count": 69,
   "metadata": {},
   "outputs": [
    {
     "name": "stdout",
     "output_type": "stream",
     "text": [
      "2 rows affected.\n",
      "1 rows affected.\n"
     ]
    },
    {
     "data": {
      "text/html": [
       "<table>\n",
       "    <tr>\n",
       "        <th>commit_index</th>\n",
       "    </tr>\n",
       "    <tr>\n",
       "        <td>True</td>\n",
       "    </tr>\n",
       "</table>"
      ],
      "text/plain": [
       "[(True,)]"
      ]
     },
     "execution_count": 69,
     "metadata": {},
     "output_type": "execute_result"
    }
   ],
   "source": [
    "%%sql gpadmin@gpadmin\n",
    "SELECT *\n",
    "FROM gptext.index_external(\n",
    "    TABLE(\n",
    "        SELECT url \n",
    "        FROM input_url \n",
    "        GROUP BY 1 \n",
    "        ORDER BY RANDOM() \n",
    "        LIMIT 1000 SCATTER BY url), \n",
    "    'ext_events');\n",
    "SELECT * FROM gptext.commit_index('ext_events');"
   ]
  },
  {
   "cell_type": "markdown",
   "metadata": {},
   "source": [
    "## 4. Retrieve external index results and materialize into a table"
   ]
  },
  {
   "cell_type": "code",
   "execution_count": 70,
   "metadata": {},
   "outputs": [
    {
     "name": "stdout",
     "output_type": "stream",
     "text": [
      "Done.\n",
      "764 rows affected.\n"
     ]
    },
    {
     "data": {
      "text/plain": [
       "[]"
      ]
     },
     "execution_count": 70,
     "metadata": {},
     "output_type": "execute_result"
    }
   ],
   "source": [
    "%%sql gpadmin@gpadmin\n",
    "DROP TABLE IF EXISTS http_content;\n",
    "CREATE TABLE http_content AS \n",
    "SELECT * \n",
    "FROM gptext.search_external(\n",
    "    TABLE(\n",
    "        SELECT 1 SCATTER BY 1), \n",
    "    'ext_events',\n",
    "    '*', \n",
    "    null) \n",
    "DISTRIBUTED BY (sha256);"
   ]
  },
  {
   "cell_type": "markdown",
   "metadata": {},
   "source": [
    "## 5. Index HTTM content"
   ]
  },
  {
   "cell_type": "code",
   "execution_count": 10,
   "metadata": {},
   "outputs": [
    {
     "name": "stdout",
     "output_type": "stream",
     "text": [
      "1 rows affected.\n"
     ]
    },
    {
     "data": {
      "text/html": [
       "<table>\n",
       "    <tr>\n",
       "        <th>create_index</th>\n",
       "    </tr>\n",
       "    <tr>\n",
       "        <td>True</td>\n",
       "    </tr>\n",
       "</table>"
      ],
      "text/plain": [
       "[(True,)]"
      ]
     },
     "execution_count": 10,
     "metadata": {},
     "output_type": "execute_result"
    }
   ],
   "source": [
    "%%sql gpadmin@gpadmin\n",
    "SELECT * FROM gptext.drop_index('gpadmin.public.http_content');\n",
    "SELECT * FROM gptext.create_index('public', 'http_content', 'id', 'content');"
   ]
  },
  {
   "cell_type": "markdown",
   "metadata": {},
   "source": [
    "## 6. Enable NER terms over the newly created index"
   ]
  },
  {
   "cell_type": "code",
   "execution_count": 12,
   "metadata": {},
   "outputs": [
    {
     "name": "stdout",
     "output_type": "stream",
     "text": [
      "1 rows affected.\n"
     ]
    },
    {
     "data": {
      "text/html": [
       "<table>\n",
       "    <tr>\n",
       "        <th>enable_terms</th>\n",
       "    </tr>\n",
       "    <tr>\n",
       "        <td>True</td>\n",
       "    </tr>\n",
       "</table>"
      ],
      "text/plain": [
       "[(True,)]"
      ]
     },
     "execution_count": 12,
     "metadata": {},
     "output_type": "execute_result"
    }
   ],
   "source": [
    "%%sql gpadmin@gpadmin\n",
    "SELECT * FROM gptext.enable_terms('gpadmin.public.http_content','content');"
   ]
  },
  {
   "cell_type": "markdown",
   "metadata": {},
   "source": [
    "### TO-DO\n",
    "- Edit the `managed-schema` file for the named index using the `gptext-config` utility: `gptext-config edit -i gpadmin.public.http_content -f managed-schema`\n",
    "- Add `text_opennlp` field type definition to the list of `<fieldType>` elements:\n",
    "```\n",
    "<fieldType name=\"text_opennlp\" class=\"solr.TextField\">\n",
    "    <analyzer type=\"index\">\n",
    "        <tokenizer class=\"solr.OpenNLPTokenizerFactory\" \n",
    "            sentenceModel=\"en-sent.bin\"\n",
    "            tokenizerModel=\"en-token.bin\"/>\n",
    "        <filter class=\"solr.OpenNLPPOSFilterFactory\" posTaggerModel=\"en-pos-maxent.bin\"/>\n",
    "        <filter class=\"com.emc.solr.analysis.opennlp.OpenNLPNERFilterFactory\"\n",
    "            nerTaggerModels=\"en-ner-person.bin,en-ner-organization.bin,en-ner-time.bin\"/>\n",
    "        <filter class=\"solr.StopFilterFactory\" words=\"stopwords-ner.txt\" ignoreCase=\"true\"/>\n",
    "        <filter class=\"com.emc.solr.analysis.opennlp.NERAndTypeAttributeAsSynonymFilterFactory\" extractType=\"true\" typePrefix=\"_pos_\"/>\n",
    "        <filter class=\"solr.LowerCaseFilterFactory\"/>\n",
    "        <filter class=\"solr.PorterStemFilterFactory\"/>\n",
    "    </analyzer>\n",
    "    <analyzer type=\"query\">\n",
    "        <tokenizer class=\"solr.WhitespaceTokenizerFactory\"/>\n",
    "        <filter class=\"solr.SynonymFilterFactory\" synonyms=\"synonyms.txt\" ignoreCase=\"true\" expand=\"true\"/>\n",
    "        <filter class=\"solr.StopFilterFactory\" ignoreCase=\"true\" words=\"stopwords.txt\"/>\n",
    "        <filter class=\"solr.LowerCaseFilterFactory\"/>\n",
    "        <filter class=\"solr.KeywordMarkerFilterFactory\" pattern=\"^(_ner_|_pos_).+$\" />\n",
    "        <filter class=\"solr.PorterStemFilterFactory\"/>\n",
    "    </analyzer>\n",
    "</fieldType>\n",
    "```\n",
    "- Find the `content` field and change the type attribute to \"text_opennlp\".\n",
    "- Set the `nerTaggerModels` attribute of the `OpenNLPNERFilterFactory` filter element in the field type definition.\n",
    "  - `<filter class=\"com.emc.solr.analysis.opennlp.OpenNLPNERFilterFactory\" nerTaggerModels=\"en-ner-person.bin,en-ner-organization.bin,en-ner-location.bin,en-ner-date.bin,en-ner-time.bin\"/>`"
   ]
  },
  {
   "cell_type": "code",
   "execution_count": null,
   "metadata": {},
   "outputs": [],
   "source": []
  },
  {
   "cell_type": "markdown",
   "metadata": {},
   "source": [
    "# Scratchpad"
   ]
  },
  {
   "cell_type": "code",
   "execution_count": 10,
   "metadata": {},
   "outputs": [],
   "source": [
    "df = pd.read_csv('/root/input_url.csv', header=None, sep=\"|\", names=['id', 'url'])\n",
    "input_data = df\n",
    "PERSIST input_data;\n",
    "SELECT * FROM input_data;"
   ]
  },
  {
   "cell_type": "code",
   "execution_count": 4,
   "metadata": {},
   "outputs": [
    {
     "name": "stdout",
     "output_type": "stream",
     "text": [
      "SqlMagic options\n",
      "--------------\n",
      "SqlMagic.autocommit=<Bool>\n",
      "    Current: True\n",
      "    Set autocommit mode\n",
      "SqlMagic.autolimit=<Int>\n",
      "    Current: 0\n",
      "    Automatically limit the size of the returned result sets\n",
      "SqlMagic.autopandas=<Bool>\n",
      "    Current: False\n",
      "    Return Pandas DataFrames instead of regular result sets\n",
      "SqlMagic.column_local_vars=<Bool>\n",
      "    Current: False\n",
      "    Return data into local variables from column names\n",
      "SqlMagic.displaylimit=<Int>\n",
      "    Current: None\n",
      "    Automatically limit the number of rows displayed (full result set is still\n",
      "    stored)\n",
      "SqlMagic.dsn_filename=<Unicode>\n",
      "    Current: u'odbc.ini'\n",
      "    Path to DSN file. When the first argument is of the form [section], a\n",
      "    sqlalchemy connection string is formed from the matching section in the DSN\n",
      "    file.\n",
      "SqlMagic.feedback=<Bool>\n",
      "    Current: True\n",
      "    Print number of rows affected by DML\n",
      "SqlMagic.short_errors=<Bool>\n",
      "    Current: True\n",
      "    Don't display the full traceback on SQL Programming Error\n",
      "SqlMagic.style=<Unicode>\n",
      "    Current: u'DEFAULT'\n",
      "    Set the table printing style to any of prettytable's defined styles\n",
      "    (currently DEFAULT, MSWORD_FRIENDLY, PLAIN_COLUMNS, RANDOM)\n"
     ]
    }
   ],
   "source": [
    "%config SqlMagic"
   ]
  },
  {
   "cell_type": "code",
   "execution_count": null,
   "metadata": {},
   "outputs": [],
   "source": []
  }
 ],
 "metadata": {
  "kernelspec": {
   "display_name": "Python 2",
   "language": "python",
   "name": "python2"
  },
  "language_info": {
   "codemirror_mode": {
    "name": "ipython",
    "version": 2
   },
   "file_extension": ".py",
   "mimetype": "text/x-python",
   "name": "python",
   "nbconvert_exporter": "python",
   "pygments_lexer": "ipython2",
   "version": "2.7.15rc1"
  }
 },
 "nbformat": 4,
 "nbformat_minor": 2
}
